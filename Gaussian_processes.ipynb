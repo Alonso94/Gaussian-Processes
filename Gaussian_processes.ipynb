{
 "cells": [
  {
   "cell_type": "markdown",
   "metadata": {},
   "source": [
    "# Gaussian Processes with GPflow"
   ]
  },
  {
   "cell_type": "markdown",
   "metadata": {},
   "source": [
    "***\n",
    "## GPflow:\n",
    "GPflow is a Gaussian process library that uses:\n",
    "- __Tensorflow__ for its core __computation__.\n",
    "- __Python__ for its __front end__"
   ]
  },
  {
   "cell_type": "markdown",
   "metadata": {},
   "source": [
    "***\n",
    "## Goal features of GPflow:\n",
    "1. __Variational inference__ as primary __approximation__ method.\n",
    "2. __Automatic differentiation__ instead of gradient implementations.\n",
    "3. Leverage __GPU__ hardware for fast computation.\n",
    "4. Clean Python __OOP__.\n",
    "5. __Open source__ software principles. "
   ]
  },
  {
   "cell_type": "markdown",
   "metadata": {},
   "source": [
    "***\n",
    "## GPflow meets Tensorflow:\n",
    "Computation in Tensorflow is a directed graph:\n",
    "- __nodes__ represent __operations__.\n",
    "- __edges__ represent __tensors__. <br>\n",
    "__TF_kernels__ are implementation of operations of specific device (CPU or GPU)"
   ]
  },
  {
   "cell_type": "markdown",
   "metadata": {},
   "source": [
    "GP software needs the ability to solve systems of linear equations , additional contributions from GPflow developers Tensorflow:\n",
    "- C++ implementation of the __blocked Cholesky algorithm__.\n",
    "- Solving __matrix triangular systems__ on GPU."
   ]
  },
  {
   "cell_type": "markdown",
   "metadata": {},
   "source": [
    "As mentioned above, GPflow support __exact inference__ using __Gaussian likelihood__ (GPR-Gaussian Processes for Regression) where possible. But for __approximated inference__ it uses __Non-Gaussian likelihood__, which has two classes in GPflow:<br>\n",
    "- __Variational__: VGP-Variational Gaussian Processes.\n",
    "- __MCMC__ (Markov Chain Monte Carlo): GPMC-Gaussian Process Monte Carlo.\n",
    "\n",
    "The use of __variational sparsity__ ensures that the approximation is scalable and close the posterior (its KL divergence small).\n",
    "\n",
    "Below a table showing the inference classes in GPflow."
   ]
  },
  {
   "cell_type": "markdown",
   "metadata": {},
   "source": [
    "<img src=\"inference.png\"/>"
   ]
  },
  {
   "cell_type": "markdown",
   "metadata": {},
   "source": [
    "***\n",
    "## Why we will use GPflow?\n",
    "GPflow gives around 6x performance when using GPU in comparison with ordinary Gaussian process libraries."
   ]
  },
  {
   "cell_type": "markdown",
   "metadata": {},
   "source": [
    "<img src=\"gpflow.png\"/>"
   ]
  },
  {
   "cell_type": "markdown",
   "metadata": {},
   "source": [
    "***\n",
    "## GPflow in practice:\n"
   ]
  }
 ],
 "metadata": {
  "kernelspec": {
   "display_name": "Python 2",
   "language": "python",
   "name": "python2"
  },
  "language_info": {
   "codemirror_mode": {
    "name": "ipython",
    "version": 2
   },
   "file_extension": ".py",
   "mimetype": "text/x-python",
   "name": "python",
   "nbconvert_exporter": "python",
   "pygments_lexer": "ipython2",
   "version": "2.7.15"
  }
 },
 "nbformat": 4,
 "nbformat_minor": 1
}
